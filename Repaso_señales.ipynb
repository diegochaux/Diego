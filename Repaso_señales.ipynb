{
  "nbformat": 4,
  "nbformat_minor": 0,
  "metadata": {
    "colab": {
      "provenance": [],
      "authorship_tag": "ABX9TyN6J/Qao8yAS4yiQPIy2mnZ",
      "include_colab_link": true
    },
    "kernelspec": {
      "name": "python3",
      "display_name": "Python 3"
    },
    "language_info": {
      "name": "python"
    }
  },
  "cells": [
    {
      "cell_type": "markdown",
      "metadata": {
        "id": "view-in-github",
        "colab_type": "text"
      },
      "source": [
        "<a href=\"https://colab.research.google.com/github/diegochaux/Diego/blob/main/Repaso_se%C3%B1ales.ipynb\" target=\"_parent\"><img src=\"https://colab.research.google.com/assets/colab-badge.svg\" alt=\"Open In Colab\"/></a>"
      ]
    },
    {
      "cell_type": "code",
      "execution_count": null,
      "metadata": {
        "colab": {
          "base_uri": "https://localhost:8080/"
        },
        "id": "lthr9xK1CRqL",
        "outputId": "3552db74-190a-41ff-a1d7-f57e608d484d"
      },
      "outputs": [
        {
          "output_type": "execute_result",
          "data": {
            "text/plain": [
              "78.4"
            ]
          },
          "metadata": {},
          "execution_count": 1
        }
      ],
      "source": [
        "import numpy as np"
      ]
    },
    {
      "cell_type": "code",
      "source": [
        "#Write a program that displays the result of the following arithmetic operation on the screen:\n",
        "x= (5/2.5)**2\n",
        "x"
      ],
      "metadata": {
        "id": "2jP0nGASET8N",
        "colab": {
          "base_uri": "https://localhost:8080/"
        },
        "outputId": "de25c0ab-1f1a-4b4a-a144-78465d4190d5"
      },
      "execution_count": 35,
      "outputs": [
        {
          "output_type": "execute_result",
          "data": {
            "text/plain": [
              "4.0"
            ]
          },
          "metadata": {},
          "execution_count": 35
        }
      ]
    },
    {
      "cell_type": "code",
      "source": [
        "#Write a program that asks the user for the number of hours worked and the hourly rate. Then, it should display on the screen the corresponding payment.\n",
        "x=input(\"Digite el numero de horas trabajadas\")\n",
        "y=input(\"Digite el costo de la hora\")\n",
        "x= float(x)\n",
        "y=float(y)\n",
        "a=(x*y)\n",
        "print(\"El pago es: \",a)"
      ],
      "metadata": {
        "colab": {
          "base_uri": "https://localhost:8080/"
        },
        "id": "uxUuQR-lChVT",
        "outputId": "9f4bbfa3-ddc5-4a28-a164-db771fbad611"
      },
      "execution_count": 38,
      "outputs": [
        {
          "output_type": "stream",
          "name": "stdout",
          "text": [
            "Digite el numero de horas trabajadas54\n",
            "Digite el costo de la hora5000\n",
            "El pago es:  270000.0\n"
          ]
        }
      ]
    },
    {
      "cell_type": "code",
      "source": [
        "#Write a program that asks the user for their weight (in kg) and height (in meters), calculates the body mass index (BMI), stores it in a variable, and displays the message \"Your body mass index is imc\" on the screen, where imc is\n",
        "#the calculated BMI rounded to two decimal places.\n",
        "a=input(\"Digite su peso\")\n",
        "b=input(\"Digite su altura\")\n",
        "a=float(a)\n",
        "b=float(b)\n",
        "z=(a/(b**2))\n",
        "print(\"Su IMC es\", round(z,2))"
      ],
      "metadata": {
        "colab": {
          "base_uri": "https://localhost:8080/"
        },
        "id": "u5LTyRB_DSEj",
        "outputId": "22a9515c-3226-47bf-d5d3-8795ee018be5"
      },
      "execution_count": 40,
      "outputs": [
        {
          "output_type": "stream",
          "name": "stdout",
          "text": [
            "Digite su peso66.6\n",
            "Digite su altura1.73\n",
            "Su IMC es 22.25\n"
          ]
        }
      ]
    },
    {
      "cell_type": "code",
      "source": [
        "#In order to pay a certain tax, you must be over 16 years old and have a monthly income equal to or greater than €1000. Write a program that asks the user for their age and monthly income,\n",
        "#and displays whether the user has to pay the tax or not.\n",
        "a=input(\"Digite su edad\")\n",
        "b=input(\"Digite sus ingresos\")\n",
        "a=int(a)\n",
        "b=float(b)\n",
        "if (a>16) and (b>=1000):\n",
        "  print(\"Debe pagar impuesto\")\n",
        "else:\n",
        "  print(\"No debe pagar impueto\")"
      ],
      "metadata": {
        "id": "Be3LjAdwEdiy",
        "colab": {
          "base_uri": "https://localhost:8080/"
        },
        "outputId": "47a56c3e-d9b6-406a-d4d8-2864fe5a3453"
      },
      "execution_count": 42,
      "outputs": [
        {
          "output_type": "stream",
          "name": "stdout",
          "text": [
            "Digite su edad11\n",
            "Digite sus ingresos55\n",
            "No debe pagar impueto\n"
          ]
        }
      ]
    },
    {
      "cell_type": "code",
      "source": [
        "#The Bella Napoli pizzeria offers vegetarian and non-vegetarian pizzas to its customers. The ingredients for each type of pizza are as follows:\n",
        "#Vegetarian ingredients: Bell peppers and tofu.\n",
        "\n",
        "#Non-vegetarian ingredients: Pepperoni, Ham, and Salmon.\n",
        "\n",
        "#Write a program that asks the user if they want a vegetarian pizza or not, and based on their response, displays a menu with the available ingredients for\n",
        "#them to choose from. Only one additional ingredient can be chosen besides the mozzarella and tomato, which are included in all pizzas. Finally, the program\n",
        "#should display whether the chosen pizza is vegetarian or not, along with all the ingredients it contains.\n",
        "\n",
        "pizza=input(\"Desea su pizza vegetarian S/N : \").upper()\n",
        "\n",
        "if pizza==\"S\":\n",
        "  print(\"Ingredientes adicionales:\\npimientos\\nTofu\")\n",
        "  ingrediente=input(\"Ingrese el ingrediente adicional que desea: \")\n",
        "\n",
        "  print(f\"Su pizza es vegetariana y contiene mozzarella, tomate y {ingrediente}\")\n",
        "else:\n",
        "  print(\"Ingredientes adicionales:\\nPepperoni\\nJamón\\nSalmón\")\n",
        "  ingrediente=input(\"Ingrese el ingrediente adicional que desea: \")\n",
        "  print(f\"Su pizza no es vegetariana y contiene mozzarella, tomate y {ingrediente}\")"
      ],
      "metadata": {
        "id": "aBQOaBddLQS5",
        "colab": {
          "base_uri": "https://localhost:8080/"
        },
        "outputId": "1e790d05-b55e-44c2-f323-e188e4dca5d9"
      },
      "execution_count": 44,
      "outputs": [
        {
          "output_type": "stream",
          "name": "stdout",
          "text": [
            "Desea su pizza vegetarian S/N : n\n",
            "Ingredientes adicionales:\n",
            "Pepperoni\n",
            "Jamón\n",
            "Salmón\n",
            "Ingrese el ingrediente adicional que desea: Jamón\n",
            "Su pizza no es vegetariana y contiene mozzarella, tomate y Jamón\n"
          ]
        }
      ]
    },
    {
      "cell_type": "code",
      "source": [
        "#Write a code that ask the user to enter an integer number every time, and the process will be repeated with more numbers until the user enters a zero.\n",
        "#At the end (when the zero is entered), show the amount of numbers entered.\n",
        "x = int(input('Ingrese un numero entero: '))\n",
        "contador=0\n",
        "while x != 0:\n",
        "    contador +=1\n",
        "    x = int(input('Ingrese un numero entero: '))\n",
        "contador= contador + 1\n",
        "print(\"La cantidad de numeros ingresados son\", contador)"
      ],
      "metadata": {
        "id": "p3nAjJaXqSoK",
        "colab": {
          "base_uri": "https://localhost:8080/"
        },
        "outputId": "7612ed94-6d47-4278-e6fa-6c45ba4d9f67"
      },
      "execution_count": 25,
      "outputs": [
        {
          "output_type": "stream",
          "name": "stdout",
          "text": [
            "Ingrese un numero entero: 5\n",
            "Ingrese un numero entero: 4\n",
            "Ingrese un numero entero: 3\n",
            "Ingrese un numero entero: 0\n",
            "La cantidad de numeros ingresados son 4\n"
          ]
        }
      ]
    },
    {
      "cell_type": "code",
      "source": [
        "contador=0\n",
        "acumulador=0\n",
        "while (contador <=9) and (acumulador < 51):\n",
        "  x=int(input(\"Digite un numero entero: \"))\n",
        "  if x % 2 == 0:\n",
        "    acumulador += x\n",
        "    contador +=1\n",
        "  else:\n",
        "    contador += 1\n",
        "\n",
        "print(contador,acumulador)\n"
      ],
      "metadata": {
        "colab": {
          "base_uri": "https://localhost:8080/"
        },
        "id": "D8WQAip38Fdb",
        "outputId": "db80b505-1457-4df7-ea95-f53ca28746d4"
      },
      "execution_count": 47,
      "outputs": [
        {
          "output_type": "stream",
          "name": "stdout",
          "text": [
            "Digite un numero entero50\n",
            "Digite un numero entero2\n",
            "2 52\n"
          ]
        }
      ]
    }
  ]
}